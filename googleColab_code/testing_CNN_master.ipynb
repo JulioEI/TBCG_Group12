{
  "nbformat": 4,
  "nbformat_minor": 0,
  "metadata": {
    "colab": {
      "name": "testing_CNN_master.ipynb",
      "provenance": [],
      "collapsed_sections": [],
      "authorship_tag": "ABX9TyORx88cVkaBf/Mn26PX95RX",
      "include_colab_link": true
    },
    "kernelspec": {
      "name": "python3",
      "display_name": "Python 3"
    },
    "language_info": {
      "name": "python"
    }
  },
  "cells": [
    {
      "cell_type": "markdown",
      "metadata": {
        "id": "view-in-github",
        "colab_type": "text"
      },
      "source": [
        "<a href=\"https://colab.research.google.com/github/JulioEI/TBCG_Group12/blob/main/googleColab_code/testing_CNN_master.ipynb\" target=\"_parent\"><img src=\"https://colab.research.google.com/assets/colab-badge.svg\" alt=\"Open In Colab\"/></a>"
      ]
    },
    {
      "cell_type": "markdown",
      "metadata": {
        "id": "iJV4DpcYj7mZ"
      },
      "source": [
        "# TESTING PIPELINE\n"
      ]
    },
    {
      "cell_type": "code",
      "metadata": {
        "colab": {
          "base_uri": "https://localhost:8080/"
        },
        "id": "xRpgCQ9tjWR5",
        "outputId": "a89d0d48-a12a-437c-bb50-ee32f65676e2"
      },
      "source": [
        "import os\n",
        "import tensorflow as tf\n",
        "import sys\n",
        "!git clone https://github.com/JulioEI/TBCG_Group12.git\n",
        "sys.path.insert(0,'/content/TBCG_Group12/code')\n",
        "import utils as ut\n",
        "import bcg_auxiliary as bcg"
      ],
      "execution_count": 1,
      "outputs": [
        {
          "output_type": "stream",
          "name": "stdout",
          "text": [
            "Cloning into 'TBCG_Group12'...\n",
            "remote: Enumerating objects: 194, done.\u001b[K\n",
            "remote: Counting objects: 100% (194/194), done.\u001b[K\n",
            "remote: Compressing objects: 100% (120/120), done.\u001b[K\n",
            "remote: Total 194 (delta 79), reused 164 (delta 54), pack-reused 0\u001b[K\n",
            "Receiving objects: 100% (194/194), 1.20 MiB | 3.86 MiB/s, done.\n",
            "Resolving deltas: 100% (79/79), done.\n"
          ]
        }
      ]
    },
    {
      "cell_type": "markdown",
      "metadata": {
        "id": "2M4jbGQ1j_KJ"
      },
      "source": [
        "Define general parameters"
      ]
    },
    {
      "cell_type": "code",
      "metadata": {
        "id": "D7aNER_ijeOl"
      },
      "source": [
        "fs=1250 #sampling frequency after downsampling\n",
        "window_seconds = 0.05 #window length in seconds\n",
        "overlapping = 0.7 #window overlapping"
      ],
      "execution_count": 2,
      "outputs": []
    },
    {
      "cell_type": "markdown",
      "metadata": {
        "id": "1mQEl0hmkP1b"
      },
      "source": [
        "Get testing data from figshare"
      ]
    },
    {
      "cell_type": "code",
      "metadata": {
        "colab": {
          "base_uri": "https://localhost:8080/"
        },
        "id": "nGUAoi46iixi",
        "outputId": "57165e23-e34b-47b1-f85a-d266c7a3ea84"
      },
      "source": [
        "#TEST DATA\n",
        "!wget https://figshare.com/ndownloader/articles/16856182/versions/1 -O zip_Test1 #download zip \n",
        "!unzip /content/zip_Test1 -d /content/Test1 #extract zip\n",
        "!rm zip_Test1 #delete zip\n",
        "!wget https://figshare.com/ndownloader/articles/16856248/versions/1 -O zip_Test2\n",
        "!unzip /content/zip_Test2 -d /content/Test2\n",
        "!rm zip_Test2"
      ],
      "execution_count": 3,
      "outputs": [
        {
          "output_type": "stream",
          "name": "stdout",
          "text": [
            "--2021-11-15 13:30:09--  https://figshare.com/ndownloader/articles/16856182/versions/1\n",
            "Resolving figshare.com (figshare.com)... 34.251.171.26, 52.19.36.181, 2a05:d018:1f4:d003:51ae:4c8f:af50:efaa, ...\n",
            "Connecting to figshare.com (figshare.com)|34.251.171.26|:443... connected.\n",
            "HTTP request sent, awaiting response... 200 OK\n",
            "Length: 727991274 (694M) [application/zip]\n",
            "Saving to: ‘zip_Test1’\n",
            "\n",
            "zip_Test1           100%[===================>] 694.27M  20.0MB/s    in 37s     \n",
            "\n",
            "2021-11-15 13:30:47 (18.8 MB/s) - ‘zip_Test1’ saved [727991274/727991274]\n",
            "\n",
            "Archive:  /content/zip_Test1\n",
            " extracting: /content/Test1/ephys_shank4.dat  \n",
            " extracting: /content/Test1/info.mat  \n",
            " extracting: /content/Test1/mapsCh.csv  \n",
            "--2021-11-15 13:30:53--  https://figshare.com/ndownloader/articles/16856248/versions/1\n",
            "Resolving figshare.com (figshare.com)... 52.19.36.181, 34.251.171.26, 2a05:d018:1f4:d003:51ae:4c8f:af50:efaa, ...\n",
            "Connecting to figshare.com (figshare.com)|52.19.36.181|:443... connected.\n",
            "HTTP request sent, awaiting response... 200 OK\n",
            "Length: 468911082 (447M) [application/zip]\n",
            "Saving to: ‘zip_Test2’\n",
            "\n",
            "zip_Test2           100%[===================>] 447.19M  19.0MB/s    in 25s     \n",
            "\n",
            "2021-11-15 13:31:19 (17.6 MB/s) - ‘zip_Test2’ saved [468911082/468911082]\n",
            "\n",
            "Archive:  /content/zip_Test2\n",
            " extracting: /content/Test2/ephys_shank3.dat  \n",
            " extracting: /content/Test2/info.mat  \n",
            " extracting: /content/Test2/mapsCh.csv  \n"
          ]
        }
      ]
    },
    {
      "cell_type": "markdown",
      "metadata": {
        "id": "VuiitmQgkWQZ"
      },
      "source": [
        "Load downloaded data and preprocess it"
      ]
    },
    {
      "cell_type": "code",
      "metadata": {
        "id": "wJZ0QZdckXo5"
      },
      "source": [
        "datapath = \"/content/Test1\" #define path of downloaded data\n",
        "data_test1, x_test1, indx_map_test1 = ut.load_test_data_pipeline(datapath, desired_fs=fs, \n",
        "                             window_seconds = window_seconds, overlapping = overlapping, zscore=True, binary = False) #load data nad preprocess it according to pipeline defined in \"utils.py\"\n",
        "\n",
        "datapath = \"/content/Test2\"\n",
        "data_test2, x_test2, indx_map_test2 = ut.load_test_data_pipeline(datapath, desired_fs=fs, \n",
        "                             window_seconds = window_seconds, overlapping = overlapping, zscore=True, binary = False)"
      ],
      "execution_count": 6,
      "outputs": []
    },
    {
      "cell_type": "markdown",
      "metadata": {
        "id": "XP-Od3oGkRZY"
      },
      "source": [
        "Load model from github repo"
      ]
    },
    {
      "cell_type": "code",
      "metadata": {
        "id": "2iIbl7pNjkvu"
      },
      "source": [
        "model = tf.keras.models.load_model(\"/content/TBCG_Group12/code/model/model_prob_vf.h5\")"
      ],
      "execution_count": 7,
      "outputs": []
    },
    {
      "cell_type": "markdown",
      "metadata": {
        "id": "Zn9TlbRUkT1N"
      },
      "source": [
        "Get predictions"
      ]
    },
    {
      "cell_type": "code",
      "metadata": {
        "id": "c0486EGCjn0s"
      },
      "source": [
        "y_test1 = model.predict(x_test1)\n",
        "y_test2 = model.predict(x_test2)\n",
        "\n",
        "events_prediction_test1 = ut.get_ripple_times_from_CNN_output(y_test1, indx_map_test1,\n",
        "                                              th_zero = 5e-1,th_dur = 0.01, verbose = False)\n",
        "events_prediction_test2 = ut.get_ripple_times_from_CNN_output(y_test2, indx_map_test2,\n",
        "                                              th_zero = 5e-1,th_dur = 0.01, verbose = False)"
      ],
      "execution_count": 8,
      "outputs": []
    },
    {
      "cell_type": "markdown",
      "metadata": {
        "id": "nG8HghW-kgYU"
      },
      "source": [
        "Save results into csv"
      ]
    },
    {
      "cell_type": "code",
      "metadata": {
        "id": "E-K_X-gOjuWD"
      },
      "source": [
        "!mkdir '/content/results'\n",
        "bcg.write_results(\"/content/results/\", 'test1_results',12, events_prediction_test1)\n",
        "bcg.write_results(\"/content/results/\", 'test2_results',12, events_prediction_test2)"
      ],
      "execution_count": null,
      "outputs": []
    }
  ]
}